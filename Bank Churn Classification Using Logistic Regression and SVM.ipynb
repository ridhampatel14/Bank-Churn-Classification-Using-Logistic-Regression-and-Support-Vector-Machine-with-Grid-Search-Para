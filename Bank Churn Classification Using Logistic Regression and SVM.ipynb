{
  "cells": [
    {
      "cell_type": "code",
      "execution_count": null,
      "id": "a56f8d10",
      "metadata": {
        "id": "a56f8d10"
      },
      "outputs": [],
      "source": [
        "import pandas as pd\n",
        "import matplotlib.pyplot as plt\n",
        "import numpy as np\n",
        "import sklearn\n",
        "import seaborn as sns\n",
        "from sklearn.preprocessing import StandardScaler\n",
        "from sklearn.model_selection import train_test_split\n",
        "from sklearn.linear_model import LinearRegression\n",
        "from sklearn.decomposition import PCA\n",
        "from sklearn import svm\n",
        "from sklearn.linear_model import LogisticRegression\n",
        "from sklearn.metrics import accuracy_score\n",
        "from imblearn.over_sampling import SMOTE\n",
        "from sklearn.model_selection import GridSearchCV\n",
        "from sklearn.metrics import accuracy_score, confusion_matrix, classification_report, f1_score"
      ]
    },
    {
      "cell_type": "markdown",
      "id": "wFXXmimn3wxW",
      "metadata": {
        "id": "wFXXmimn3wxW"
      },
      "source": [
        "**Data Loading / Preprocessing :**"
      ]
    },
    {
      "cell_type": "markdown",
      "id": "d8c670c0",
      "metadata": {
        "id": "d8c670c0"
      },
      "source": [
        "i. Loading "
      ]
    },
    {
      "cell_type": "code",
      "execution_count": null,
      "id": "9275ff13",
      "metadata": {
        "colab": {
          "base_uri": "https://localhost:8080/",
          "height": 270
        },
        "id": "9275ff13",
        "outputId": "2c515f01-9129-4e1e-cf10-afd2beef6928"
      },
      "outputs": [
        {
          "output_type": "execute_result",
          "data": {
            "text/plain": [
              "   RowNumber  CustomerId   Surname  CreditScore Geography  Gender  Age  \\\n",
              "0          1    15634602  Hargrave          619    France  Female   42   \n",
              "1          2    15647311      Hill          608     Spain  Female   41   \n",
              "2          3    15619304      Onio          502    France  Female   42   \n",
              "3          4    15701354      Boni          699    France  Female   39   \n",
              "4          5    15737888  Mitchell          850     Spain  Female   43   \n",
              "\n",
              "   Tenure    Balance  NumOfProducts  HasCrCard  IsActiveMember  \\\n",
              "0       2       0.00              1          1               1   \n",
              "1       1   83807.86              1          0               1   \n",
              "2       8  159660.80              3          1               0   \n",
              "3       1       0.00              2          0               0   \n",
              "4       2  125510.82              1          1               1   \n",
              "\n",
              "   EstimatedSalary  Exited  \n",
              "0        101348.88       1  \n",
              "1        112542.58       0  \n",
              "2        113931.57       1  \n",
              "3         93826.63       0  \n",
              "4         79084.10       0  "
            ],
            "text/html": [
              "\n",
              "  <div id=\"df-fe4360fb-a500-4f49-840d-2359186c06b7\">\n",
              "    <div class=\"colab-df-container\">\n",
              "      <div>\n",
              "<style scoped>\n",
              "    .dataframe tbody tr th:only-of-type {\n",
              "        vertical-align: middle;\n",
              "    }\n",
              "\n",
              "    .dataframe tbody tr th {\n",
              "        vertical-align: top;\n",
              "    }\n",
              "\n",
              "    .dataframe thead th {\n",
              "        text-align: right;\n",
              "    }\n",
              "</style>\n",
              "<table border=\"1\" class=\"dataframe\">\n",
              "  <thead>\n",
              "    <tr style=\"text-align: right;\">\n",
              "      <th></th>\n",
              "      <th>RowNumber</th>\n",
              "      <th>CustomerId</th>\n",
              "      <th>Surname</th>\n",
              "      <th>CreditScore</th>\n",
              "      <th>Geography</th>\n",
              "      <th>Gender</th>\n",
              "      <th>Age</th>\n",
              "      <th>Tenure</th>\n",
              "      <th>Balance</th>\n",
              "      <th>NumOfProducts</th>\n",
              "      <th>HasCrCard</th>\n",
              "      <th>IsActiveMember</th>\n",
              "      <th>EstimatedSalary</th>\n",
              "      <th>Exited</th>\n",
              "    </tr>\n",
              "  </thead>\n",
              "  <tbody>\n",
              "    <tr>\n",
              "      <th>0</th>\n",
              "      <td>1</td>\n",
              "      <td>15634602</td>\n",
              "      <td>Hargrave</td>\n",
              "      <td>619</td>\n",
              "      <td>France</td>\n",
              "      <td>Female</td>\n",
              "      <td>42</td>\n",
              "      <td>2</td>\n",
              "      <td>0.00</td>\n",
              "      <td>1</td>\n",
              "      <td>1</td>\n",
              "      <td>1</td>\n",
              "      <td>101348.88</td>\n",
              "      <td>1</td>\n",
              "    </tr>\n",
              "    <tr>\n",
              "      <th>1</th>\n",
              "      <td>2</td>\n",
              "      <td>15647311</td>\n",
              "      <td>Hill</td>\n",
              "      <td>608</td>\n",
              "      <td>Spain</td>\n",
              "      <td>Female</td>\n",
              "      <td>41</td>\n",
              "      <td>1</td>\n",
              "      <td>83807.86</td>\n",
              "      <td>1</td>\n",
              "      <td>0</td>\n",
              "      <td>1</td>\n",
              "      <td>112542.58</td>\n",
              "      <td>0</td>\n",
              "    </tr>\n",
              "    <tr>\n",
              "      <th>2</th>\n",
              "      <td>3</td>\n",
              "      <td>15619304</td>\n",
              "      <td>Onio</td>\n",
              "      <td>502</td>\n",
              "      <td>France</td>\n",
              "      <td>Female</td>\n",
              "      <td>42</td>\n",
              "      <td>8</td>\n",
              "      <td>159660.80</td>\n",
              "      <td>3</td>\n",
              "      <td>1</td>\n",
              "      <td>0</td>\n",
              "      <td>113931.57</td>\n",
              "      <td>1</td>\n",
              "    </tr>\n",
              "    <tr>\n",
              "      <th>3</th>\n",
              "      <td>4</td>\n",
              "      <td>15701354</td>\n",
              "      <td>Boni</td>\n",
              "      <td>699</td>\n",
              "      <td>France</td>\n",
              "      <td>Female</td>\n",
              "      <td>39</td>\n",
              "      <td>1</td>\n",
              "      <td>0.00</td>\n",
              "      <td>2</td>\n",
              "      <td>0</td>\n",
              "      <td>0</td>\n",
              "      <td>93826.63</td>\n",
              "      <td>0</td>\n",
              "    </tr>\n",
              "    <tr>\n",
              "      <th>4</th>\n",
              "      <td>5</td>\n",
              "      <td>15737888</td>\n",
              "      <td>Mitchell</td>\n",
              "      <td>850</td>\n",
              "      <td>Spain</td>\n",
              "      <td>Female</td>\n",
              "      <td>43</td>\n",
              "      <td>2</td>\n",
              "      <td>125510.82</td>\n",
              "      <td>1</td>\n",
              "      <td>1</td>\n",
              "      <td>1</td>\n",
              "      <td>79084.10</td>\n",
              "      <td>0</td>\n",
              "    </tr>\n",
              "  </tbody>\n",
              "</table>\n",
              "</div>\n",
              "      <button class=\"colab-df-convert\" onclick=\"convertToInteractive('df-fe4360fb-a500-4f49-840d-2359186c06b7')\"\n",
              "              title=\"Convert this dataframe to an interactive table.\"\n",
              "              style=\"display:none;\">\n",
              "        \n",
              "  <svg xmlns=\"http://www.w3.org/2000/svg\" height=\"24px\"viewBox=\"0 0 24 24\"\n",
              "       width=\"24px\">\n",
              "    <path d=\"M0 0h24v24H0V0z\" fill=\"none\"/>\n",
              "    <path d=\"M18.56 5.44l.94 2.06.94-2.06 2.06-.94-2.06-.94-.94-2.06-.94 2.06-2.06.94zm-11 1L8.5 8.5l.94-2.06 2.06-.94-2.06-.94L8.5 2.5l-.94 2.06-2.06.94zm10 10l.94 2.06.94-2.06 2.06-.94-2.06-.94-.94-2.06-.94 2.06-2.06.94z\"/><path d=\"M17.41 7.96l-1.37-1.37c-.4-.4-.92-.59-1.43-.59-.52 0-1.04.2-1.43.59L10.3 9.45l-7.72 7.72c-.78.78-.78 2.05 0 2.83L4 21.41c.39.39.9.59 1.41.59.51 0 1.02-.2 1.41-.59l7.78-7.78 2.81-2.81c.8-.78.8-2.07 0-2.86zM5.41 20L4 18.59l7.72-7.72 1.47 1.35L5.41 20z\"/>\n",
              "  </svg>\n",
              "      </button>\n",
              "      \n",
              "  <style>\n",
              "    .colab-df-container {\n",
              "      display:flex;\n",
              "      flex-wrap:wrap;\n",
              "      gap: 12px;\n",
              "    }\n",
              "\n",
              "    .colab-df-convert {\n",
              "      background-color: #E8F0FE;\n",
              "      border: none;\n",
              "      border-radius: 50%;\n",
              "      cursor: pointer;\n",
              "      display: none;\n",
              "      fill: #1967D2;\n",
              "      height: 32px;\n",
              "      padding: 0 0 0 0;\n",
              "      width: 32px;\n",
              "    }\n",
              "\n",
              "    .colab-df-convert:hover {\n",
              "      background-color: #E2EBFA;\n",
              "      box-shadow: 0px 1px 2px rgba(60, 64, 67, 0.3), 0px 1px 3px 1px rgba(60, 64, 67, 0.15);\n",
              "      fill: #174EA6;\n",
              "    }\n",
              "\n",
              "    [theme=dark] .colab-df-convert {\n",
              "      background-color: #3B4455;\n",
              "      fill: #D2E3FC;\n",
              "    }\n",
              "\n",
              "    [theme=dark] .colab-df-convert:hover {\n",
              "      background-color: #434B5C;\n",
              "      box-shadow: 0px 1px 3px 1px rgba(0, 0, 0, 0.15);\n",
              "      filter: drop-shadow(0px 1px 2px rgba(0, 0, 0, 0.3));\n",
              "      fill: #FFFFFF;\n",
              "    }\n",
              "  </style>\n",
              "\n",
              "      <script>\n",
              "        const buttonEl =\n",
              "          document.querySelector('#df-fe4360fb-a500-4f49-840d-2359186c06b7 button.colab-df-convert');\n",
              "        buttonEl.style.display =\n",
              "          google.colab.kernel.accessAllowed ? 'block' : 'none';\n",
              "\n",
              "        async function convertToInteractive(key) {\n",
              "          const element = document.querySelector('#df-fe4360fb-a500-4f49-840d-2359186c06b7');\n",
              "          const dataTable =\n",
              "            await google.colab.kernel.invokeFunction('convertToInteractive',\n",
              "                                                     [key], {});\n",
              "          if (!dataTable) return;\n",
              "\n",
              "          const docLinkHtml = 'Like what you see? Visit the ' +\n",
              "            '<a target=\"_blank\" href=https://colab.research.google.com/notebooks/data_table.ipynb>data table notebook</a>'\n",
              "            + ' to learn more about interactive tables.';\n",
              "          element.innerHTML = '';\n",
              "          dataTable['output_type'] = 'display_data';\n",
              "          await google.colab.output.renderOutput(dataTable, element);\n",
              "          const docLink = document.createElement('div');\n",
              "          docLink.innerHTML = docLinkHtml;\n",
              "          element.appendChild(docLink);\n",
              "        }\n",
              "      </script>\n",
              "    </div>\n",
              "  </div>\n",
              "  "
            ]
          },
          "metadata": {},
          "execution_count": 13
        }
      ],
      "source": [
        "df = pd.read_csv(\"churn.csv\")\n",
        "df.head(5)"
      ]
    },
    {
      "cell_type": "code",
      "execution_count": null,
      "id": "e0b46086",
      "metadata": {
        "colab": {
          "base_uri": "https://localhost:8080/"
        },
        "id": "e0b46086",
        "outputId": "9937b9d4-ce6c-4325-dbad-8d0db7c48346"
      },
      "outputs": [
        {
          "output_type": "execute_result",
          "data": {
            "text/plain": [
              "(10000, 14)"
            ]
          },
          "metadata": {},
          "execution_count": 14
        }
      ],
      "source": [
        "df.shape"
      ]
    },
    {
      "cell_type": "code",
      "execution_count": null,
      "id": "1670c617",
      "metadata": {
        "id": "1670c617"
      },
      "outputs": [],
      "source": [
        "df = df.drop(['RowNumber', 'CustomerId', 'Surname',], axis=1)"
      ]
    },
    {
      "cell_type": "code",
      "execution_count": null,
      "id": "916953ee",
      "metadata": {
        "colab": {
          "base_uri": "https://localhost:8080/"
        },
        "id": "916953ee",
        "outputId": "7101f2f4-71d2-4512-adb8-f8e2e27a7e0d"
      },
      "outputs": [
        {
          "output_type": "execute_result",
          "data": {
            "text/plain": [
              "(10000, 11)"
            ]
          },
          "metadata": {},
          "execution_count": 16
        }
      ],
      "source": [
        "df.shape"
      ]
    },
    {
      "cell_type": "code",
      "execution_count": null,
      "id": "76694a8b",
      "metadata": {
        "colab": {
          "base_uri": "https://localhost:8080/"
        },
        "id": "76694a8b",
        "outputId": "b8169dbf-41f4-49cd-f551-2fe15c736fdf"
      },
      "outputs": [
        {
          "output_type": "execute_result",
          "data": {
            "text/plain": [
              "CreditScore        0\n",
              "Geography          0\n",
              "Gender             0\n",
              "Age                0\n",
              "Tenure             0\n",
              "Balance            0\n",
              "NumOfProducts      0\n",
              "HasCrCard          0\n",
              "IsActiveMember     0\n",
              "EstimatedSalary    0\n",
              "Exited             0\n",
              "dtype: int64"
            ]
          },
          "metadata": {},
          "execution_count": 17
        }
      ],
      "source": [
        "df.isnull().sum()"
      ]
    },
    {
      "cell_type": "code",
      "execution_count": null,
      "id": "82bb848f",
      "metadata": {
        "id": "82bb848f"
      },
      "outputs": [],
      "source": [
        "X = df.drop([\"Exited\"], axis=1)\n",
        "Y = df.Exited"
      ]
    },
    {
      "cell_type": "markdown",
      "id": "f6578c59",
      "metadata": {
        "id": "f6578c59"
      },
      "source": [
        "ii. Data Visualization"
      ]
    },
    {
      "cell_type": "code",
      "execution_count": null,
      "id": "40444a20",
      "metadata": {
        "colab": {
          "base_uri": "https://localhost:8080/",
          "height": 295
        },
        "id": "40444a20",
        "outputId": "f5381bc2-159a-4f42-b09d-b2f3533c21d0"
      },
      "outputs": [
        {
          "output_type": "display_data",
          "data": {
            "text/plain": [
              "<Figure size 432x288 with 1 Axes>"
            ],
            "image/png": "[encoded data removed]"
          },
          "metadata": {
            "needs_background": "light"
          }
        }
      ],
      "source": [
        "#Q1\n",
        "plt.hist(X['Age'], bins=7)\n",
        "plt.xlabel('Age')\n",
        "plt.ylabel('Values')\n",
        "plt.title('Age histogram')\n",
        "plt.show() "
      ]
    },
    {
      "cell_type": "code",
      "execution_count": null,
      "id": "8a21c3ac",
      "metadata": {
        "colab": {
          "base_uri": "https://localhost:8080/",
          "height": 295
        },
        "id": "8a21c3ac",
        "outputId": "ab01fd66-b6c3-4a04-a4c9-98d0e4efe306"
      },
      "outputs": [
        {
          "output_type": "display_data",
          "data": {
            "text/plain": [
              "<Figure size 432x288 with 1 Axes>"
            ],
            "image/png": "[encoded data removed]"
          },
          "metadata": {
            "needs_background": "light"
          }
        }
      ],
      "source": [
        "#Q1\n",
        "plt.hist(X['CreditScore'], bins=7)\n",
        "plt.xlabel('CreditScore')\n",
        "plt.ylabel('Values')\n",
        "plt.title('CreditScore histogram')\n",
        "plt.show() "
      ]
    },
    {
      "cell_type": "code",
      "execution_count": null,
      "id": "b63764ff",
      "metadata": {
        "colab": {
          "base_uri": "https://localhost:8080/"
        },
        "id": "b63764ff",
        "outputId": "8a7ed925-5843-4cfb-bd31-ed1fa69d364f"
      },
      "outputs": [
        {
          "output_type": "stream",
          "name": "stdout",
          "text": [
            "Mean:-\n",
            " Age             38.9218\n",
            "CreditScore    650.5288\n",
            "dtype: float64\n",
            "SD:-\n",
            " Age            10.487806\n",
            "CreditScore    96.653299\n",
            "dtype: float64\n"
          ]
        }
      ],
      "source": [
        "#Q1\n",
        "Mean_Value = df[[\"Age\",\"CreditScore\"]].mean()\n",
        "print('Mean:-\\n',Mean_Value)\n",
        "Standard_Deviation = df[[\"Age\",\"CreditScore\"]].std()\n",
        "print('SD:-\\n',Standard_Deviation)"
      ]
    },
    {
      "cell_type": "code",
      "execution_count": null,
      "id": "8c3954d7",
      "metadata": {
        "colab": {
          "base_uri": "https://localhost:8080/",
          "height": 269
        },
        "id": "8c3954d7",
        "outputId": "c86f9fba-32f0-4936-ba68-6f2ae588b5b7"
      },
      "outputs": [
        {
          "output_type": "execute_result",
          "data": {
            "text/plain": [
              "                  Active  NonActive  Total\n",
              "Gender Geography                          \n",
              "Female France       1162       1099   2261\n",
              "       Germany       559        634   1193\n",
              "       Spain         563        526   1089\n",
              "Male   France       1429       1324   2753\n",
              "       Germany       689        627   1316\n",
              "       Spain         749        639   1388"
            ],
            "text/html": [
              "\n",
              "  <div id=\"df-904dfb47-8597-489a-bb4a-c465d65f811f\">\n",
              "    <div class=\"colab-df-container\">\n",
              "      <div>\n",
              "<style scoped>\n",
              "    .dataframe tbody tr th:only-of-type {\n",
              "        vertical-align: middle;\n",
              "    }\n",
              "\n",
              "    .dataframe tbody tr th {\n",
              "        vertical-align: top;\n",
              "    }\n",
              "\n",
              "    .dataframe thead th {\n",
              "        text-align: right;\n",
              "    }\n",
              "</style>\n",
              "<table border=\"1\" class=\"dataframe\">\n",
              "  <thead>\n",
              "    <tr style=\"text-align: right;\">\n",
              "      <th></th>\n",
              "      <th></th>\n",
              "      <th>Active</th>\n",
              "      <th>NonActive</th>\n",
              "      <th>Total</th>\n",
              "    </tr>\n",
              "    <tr>\n",
              "      <th>Gender</th>\n",
              "      <th>Geography</th>\n",
              "      <th></th>\n",
              "      <th></th>\n",
              "      <th></th>\n",
              "    </tr>\n",
              "  </thead>\n",
              "  <tbody>\n",
              "    <tr>\n",
              "      <th rowspan=\"3\" valign=\"top\">Female</th>\n",
              "      <th>France</th>\n",
              "      <td>1162</td>\n",
              "      <td>1099</td>\n",
              "      <td>2261</td>\n",
              "    </tr>\n",
              "    <tr>\n",
              "      <th>Germany</th>\n",
              "      <td>559</td>\n",
              "      <td>634</td>\n",
              "      <td>1193</td>\n",
              "    </tr>\n",
              "    <tr>\n",
              "      <th>Spain</th>\n",
              "      <td>563</td>\n",
              "      <td>526</td>\n",
              "      <td>1089</td>\n",
              "    </tr>\n",
              "    <tr>\n",
              "      <th rowspan=\"3\" valign=\"top\">Male</th>\n",
              "      <th>France</th>\n",
              "      <td>1429</td>\n",
              "      <td>1324</td>\n",
              "      <td>2753</td>\n",
              "    </tr>\n",
              "    <tr>\n",
              "      <th>Germany</th>\n",
              "      <td>689</td>\n",
              "      <td>627</td>\n",
              "      <td>1316</td>\n",
              "    </tr>\n",
              "    <tr>\n",
              "      <th>Spain</th>\n",
              "      <td>749</td>\n",
              "      <td>639</td>\n",
              "      <td>1388</td>\n",
              "    </tr>\n",
              "  </tbody>\n",
              "</table>\n",
              "</div>\n",
              "      <button class=\"colab-df-convert\" onclick=\"convertToInteractive('df-904dfb47-8597-489a-bb4a-c465d65f811f')\"\n",
              "              title=\"Convert this dataframe to an interactive table.\"\n",
              "              style=\"display:none;\">\n",
              "        \n",
              "  <svg xmlns=\"http://www.w3.org/2000/svg\" height=\"24px\"viewBox=\"0 0 24 24\"\n",
              "       width=\"24px\">\n",
              "    <path d=\"M0 0h24v24H0V0z\" fill=\"none\"/>\n",
              "    <path d=\"M18.56 5.44l.94 2.06.94-2.06 2.06-.94-2.06-.94-.94-2.06-.94 2.06-2.06.94zm-11 1L8.5 8.5l.94-2.06 2.06-.94-2.06-.94L8.5 2.5l-.94 2.06-2.06.94zm10 10l.94 2.06.94-2.06 2.06-.94-2.06-.94-.94-2.06-.94 2.06-2.06.94z\"/><path d=\"M17.41 7.96l-1.37-1.37c-.4-.4-.92-.59-1.43-.59-.52 0-1.04.2-1.43.59L10.3 9.45l-7.72 7.72c-.78.78-.78 2.05 0 2.83L4 21.41c.39.39.9.59 1.41.59.51 0 1.02-.2 1.41-.59l7.78-7.78 2.81-2.81c.8-.78.8-2.07 0-2.86zM5.41 20L4 18.59l7.72-7.72 1.47 1.35L5.41 20z\"/>\n",
              "  </svg>\n",
              "      </button>\n",
              "      \n",
              "  <style>\n",
              "    .colab-df-container {\n",
              "      display:flex;\n",
              "      flex-wrap:wrap;\n",
              "      gap: 12px;\n",
              "    }\n",
              "\n",
              "    .colab-df-convert {\n",
              "      background-color: #E8F0FE;\n",
              "      border: none;\n",
              "      border-radius: 50%;\n",
              "      cursor: pointer;\n",
              "      display: none;\n",
              "      fill: #1967D2;\n",
              "      height: 32px;\n",
              "      padding: 0 0 0 0;\n",
              "      width: 32px;\n",
              "    }\n",
              "\n",
              "    .colab-df-convert:hover {\n",
              "      background-color: #E2EBFA;\n",
              "      box-shadow: 0px 1px 2px rgba(60, 64, 67, 0.3), 0px 1px 3px 1px rgba(60, 64, 67, 0.15);\n",
              "      fill: #174EA6;\n",
              "    }\n",
              "\n",
              "    [theme=dark] .colab-df-convert {\n",
              "      background-color: #3B4455;\n",
              "      fill: #D2E3FC;\n",
              "    }\n",
              "\n",
              "    [theme=dark] .colab-df-convert:hover {\n",
              "      background-color: #434B5C;\n",
              "      box-shadow: 0px 1px 3px 1px rgba(0, 0, 0, 0.15);\n",
              "      filter: drop-shadow(0px 1px 2px rgba(0, 0, 0, 0.3));\n",
              "      fill: #FFFFFF;\n",
              "    }\n",
              "  </style>\n",
              "\n",
              "      <script>\n",
              "        const buttonEl =\n",
              "          document.querySelector('#df-904dfb47-8597-489a-bb4a-c465d65f811f button.colab-df-convert');\n",
              "        buttonEl.style.display =\n",
              "          google.colab.kernel.accessAllowed ? 'block' : 'none';\n",
              "\n",
              "        async function convertToInteractive(key) {\n",
              "          const element = document.querySelector('#df-904dfb47-8597-489a-bb4a-c465d65f811f');\n",
              "          const dataTable =\n",
              "            await google.colab.kernel.invokeFunction('convertToInteractive',\n",
              "                                                     [key], {});\n",
              "          if (!dataTable) return;\n",
              "\n",
              "          const docLinkHtml = 'Like what you see? Visit the ' +\n",
              "            '<a target=\"_blank\" href=https://colab.research.google.com/notebooks/data_table.ipynb>data table notebook</a>'\n",
              "            + ' to learn more about interactive tables.';\n",
              "          element.innerHTML = '';\n",
              "          dataTable['output_type'] = 'display_data';\n",
              "          await google.colab.output.renderOutput(dataTable, element);\n",
              "          const docLink = document.createElement('div');\n",
              "          docLink.innerHTML = docLinkHtml;\n",
              "          element.appendChild(docLink);\n",
              "        }\n",
              "      </script>\n",
              "    </div>\n",
              "  </div>\n",
              "  "
            ]
          },
          "metadata": {},
          "execution_count": 22
        }
      ],
      "source": [
        "# #Calculation for Q2\n",
        "group_by_gender = df.groupby(['Gender', 'Geography'])\n",
        "active_by_gender = group_by_gender['IsActiveMember'].sum()\n",
        "active_by_gender.name = 'Active'\n",
        "non_active_by_gender = group_by_gender['IsActiveMember'].size() - active_by_gender\n",
        "non_active_by_gender.name = 'NonActive'\n",
        "total_by_gender = group_by_gender['IsActiveMember'].size()\n",
        "total_by_gender.name = 'Total'\n",
        "active_total_by_gender = pd.concat([active_by_gender,non_active_by_gender,total_by_gender], axis=1)\n",
        "active_total_by_gender"
      ]
    },
    {
      "cell_type": "code",
      "execution_count": null,
      "id": "db369dac",
      "metadata": {
        "colab": {
          "base_uri": "https://localhost:8080/",
          "height": 645
        },
        "id": "db369dac",
        "outputId": "47b943db-f7db-49e4-8f42-950fccb1d58f"
      },
      "outputs": [
        {
          "output_type": "display_data",
          "data": {
            "text/plain": [
              "<Figure size 432x288 with 1 Axes>"
            ],
            "image/png": "[encoded data removed]"
          },
          "metadata": {
            "needs_background": "light"
          }
        },
        {
          "output_type": "display_data",
          "data": {
            "text/plain": [
              "<Figure size 432x288 with 1 Axes>"
            ],
            "image/png": "[encoded data removed]"
          },
          "metadata": {
            "needs_background": "light"
          }
        }
      ],
      "source": [
        "#Q2\n",
        "grouped_data = df.groupby(['Gender', 'Geography', 'IsActiveMember'])\n",
        "active_by_gender = group_by_gender['IsActiveMember'].sum()\n",
        "count_active = active_by_gender.reset_index(name='Count')\n",
        "pivot = count_active.pivot_table(index=['Geography'], columns=['Gender'], values='Count')\n",
        "pivot.plot.bar(title=\"Number of Active Members by Country and Gender\")\n",
        "plt.xlabel(\"Country\")\n",
        "plt.ylabel(\"Number of Active Members\")\n",
        "plt.show()\n",
        "non_active_by_gender = total_by_gender = group_by_gender['IsActiveMember'].size() - active_by_gender\n",
        "count_non_active = non_active_by_gender.reset_index(name='Count')\n",
        "pivot = count_non_active.pivot_table(index=['Geography'], columns=['Gender'], values='Count')\n",
        "pivot.plot.bar(title=\"Number of Non-Active Members by Country and Gender\")\n",
        "plt.xlabel(\"Country\")\n",
        "plt.ylabel(\"Number of Non-Active Members\")\n",
        "plt.show()"
      ]
    },
    {
      "cell_type": "code",
      "execution_count": null,
      "id": "f3a215ef",
      "metadata": {
        "colab": {
          "base_uri": "https://localhost:8080/"
        },
        "id": "f3a215ef",
        "outputId": "2b5883fb-3e16-40d2-cd62-8892e1c5c8b6"
      },
      "outputs": [
        {
          "output_type": "stream",
          "name": "stdout",
          "text": [
            "1429 Males that are from France and are active members\n",
            "563 Females that are from Spain and are active members\n",
            "1951 Males that are from France or Germany and are non active members\n"
          ]
        }
      ],
      "source": [
        "#Q2\n",
        "group_by_male = df[df['Gender'] == 'Male'].groupby(['Geography'])\n",
        "group_by_female = df[df['Gender'] == 'Female'].groupby(['Geography'])\n",
        "active_by_male = group_by_male['IsActiveMember'].sum()\n",
        "active_by_male.name = 'Active Males'\n",
        "non_active_by_male = group_by_male['IsActiveMember'].size() - active_by_male\n",
        "non_active_by_male.name = 'Non Active Males'\n",
        "active_by_female = group_by_female['IsActiveMember'].sum()\n",
        "active_by_female.name = 'Active Females'\n",
        "non_active_by_female = group_by_female['IsActiveMember'].size() - active_by_female\n",
        "non_active_by_female.name = 'Non Active Females'\n",
        "total_by_gender = pd.concat([active_by_male,active_by_female,non_active_by_male,non_active_by_female ], axis=1)\n",
        "print(active_by_male.France,\"Males that are from France and are active members\")\n",
        "print(active_by_female.Spain,\"Females that are from Spain and are active members\")\n",
        "print(non_active_by_male.France + non_active_by_male.Germany,\"Males that are from France or Germany and are non active members\")"
      ]
    },
    {
      "cell_type": "code",
      "execution_count": null,
      "id": "a34a785e",
      "metadata": {
        "colab": {
          "base_uri": "https://localhost:8080/",
          "height": 361
        },
        "id": "a34a785e",
        "outputId": "69dc1861-4eee-4760-fc30-d82f5018cf3f"
      },
      "outputs": [
        {
          "output_type": "stream",
          "name": "stdout",
          "text": [
            "Number of rows :- \n",
            "0    7963\n",
            "1    2037\n",
            "Name: Exited, dtype: int64\n"
          ]
        },
        {
          "output_type": "display_data",
          "data": {
            "text/plain": [
              "<Figure size 432x288 with 1 Axes>"
            ],
            "image/png": "[encoded data removed]"
          },
          "metadata": {
            "needs_background": "light"
          }
        }
      ],
      "source": [
        "#Q3\n",
        "counts = Y.value_counts()\n",
        "print('Number of rows :- ')\n",
        "print(counts)\n",
        "counts.plot.bar(title=\"Distribution of 'Exited' Column\")\n",
        "plt.xlabel(\"Exited\")\n",
        "plt.show()"
      ]
    },
    {
      "cell_type": "code",
      "execution_count": null,
      "id": "d52dc002",
      "metadata": {
        "id": "d52dc002",
        "colab": {
          "base_uri": "https://localhost:8080/"
        },
        "outputId": "29d96758-3668-4d4f-cae2-73f1276c3c2f"
      },
      "outputs": [
        {
          "output_type": "execute_result",
          "data": {
            "text/plain": [
              "(10000, 13)"
            ]
          },
          "metadata": {},
          "execution_count": 26
        }
      ],
      "source": [
        "#Q4\n",
        "X = pd.get_dummies(X,columns=['Gender','Geography'])\n",
        "X.shape"
      ]
    },
    {
      "cell_type": "markdown",
      "id": "6298fbb3",
      "metadata": {
        "id": "6298fbb3"
      },
      "source": [
        "iii. Data Spliting "
      ]
    },
    {
      "cell_type": "code",
      "execution_count": null,
      "id": "28e37460",
      "metadata": {
        "id": "28e37460"
      },
      "outputs": [],
      "source": [
        "#spliting the data\n",
        "X_train, X_test, y_train, y_test= train_test_split(X,df['Exited'],test_size=0.2)"
      ]
    },
    {
      "cell_type": "markdown",
      "id": "d8fbad8e",
      "metadata": {
        "id": "d8fbad8e"
      },
      "source": [
        "iv. Data Scaling"
      ]
    },
    {
      "cell_type": "code",
      "execution_count": null,
      "id": "c192cff1",
      "metadata": {
        "id": "c192cff1",
        "colab": {
          "base_uri": "https://localhost:8080/",
          "height": 270
        },
        "outputId": "6ea43d80-b5ea-4082-df4f-3b62e393f3dc"
      },
      "outputs": [
        {
          "output_type": "execute_result",
          "data": {
            "text/plain": [
              "      CreditScore       Age  Tenure   Balance  NumOfProducts  HasCrCard  \\\n",
              "9479        0.862  0.229730     0.1  0.000000       0.333333          0   \n",
              "61          0.674  0.121622     0.9  0.685340       0.333333          0   \n",
              "3954        0.758  0.216216     0.9  0.594426       0.000000          0   \n",
              "5434        0.766  0.189189     0.5  0.000000       0.333333          1   \n",
              "8892        0.660  0.189189     0.5  0.000000       0.000000          1   \n",
              "\n",
              "      IsActiveMember  EstimatedSalary  Gender_Female  Gender_Male  \\\n",
              "9479               0         0.210265              0            1   \n",
              "61                 0         0.632401              1            0   \n",
              "3954               1         0.526911              1            0   \n",
              "5434               0         0.658068              1            0   \n",
              "8892               1         0.753420              1            0   \n",
              "\n",
              "      Geography_France  Geography_Germany  Geography_Spain  \n",
              "9479                 0                  0                1  \n",
              "61                   0                  1                0  \n",
              "3954                 1                  0                0  \n",
              "5434                 0                  0                1  \n",
              "8892                 1                  0                0  "
            ],
            "text/html": [
              "\n",
              "  <div id=\"df-f3054177-980b-4b70-81e1-8e10e55762d5\">\n",
              "    <div class=\"colab-df-container\">\n",
              "      <div>\n",
              "<style scoped>\n",
              "    .dataframe tbody tr th:only-of-type {\n",
              "        vertical-align: middle;\n",
              "    }\n",
              "\n",
              "    .dataframe tbody tr th {\n",
              "        vertical-align: top;\n",
              "    }\n",
              "\n",
              "    .dataframe thead th {\n",
              "        text-align: right;\n",
              "    }\n",
              "</style>\n",
              "<table border=\"1\" class=\"dataframe\">\n",
              "  <thead>\n",
              "    <tr style=\"text-align: right;\">\n",
              "      <th></th>\n",
              "      <th>CreditScore</th>\n",
              "      <th>Age</th>\n",
              "      <th>Tenure</th>\n",
              "      <th>Balance</th>\n",
              "      <th>NumOfProducts</th>\n",
              "      <th>HasCrCard</th>\n",
              "      <th>IsActiveMember</th>\n",
              "      <th>EstimatedSalary</th>\n",
              "      <th>Gender_Female</th>\n",
              "      <th>Gender_Male</th>\n",
              "      <th>Geography_France</th>\n",
              "      <th>Geography_Germany</th>\n",
              "      <th>Geography_Spain</th>\n",
              "    </tr>\n",
              "  </thead>\n",
              "  <tbody>\n",
              "    <tr>\n",
              "      <th>9479</th>\n",
              "      <td>0.862</td>\n",
              "      <td>0.229730</td>\n",
              "      <td>0.1</td>\n",
              "      <td>0.000000</td>\n",
              "      <td>0.333333</td>\n",
              "      <td>0</td>\n",
              "      <td>0</td>\n",
              "      <td>0.210265</td>\n",
              "      <td>0</td>\n",
              "      <td>1</td>\n",
              "      <td>0</td>\n",
              "      <td>0</td>\n",
              "      <td>1</td>\n",
              "    </tr>\n",
              "    <tr>\n",
              "      <th>61</th>\n",
              "      <td>0.674</td>\n",
              "      <td>0.121622</td>\n",
              "      <td>0.9</td>\n",
              "      <td>0.685340</td>\n",
              "      <td>0.333333</td>\n",
              "      <td>0</td>\n",
              "      <td>0</td>\n",
              "      <td>0.632401</td>\n",
              "      <td>1</td>\n",
              "      <td>0</td>\n",
              "      <td>0</td>\n",
              "      <td>1</td>\n",
              "      <td>0</td>\n",
              "    </tr>\n",
              "    <tr>\n",
              "      <th>3954</th>\n",
              "      <td>0.758</td>\n",
              "      <td>0.216216</td>\n",
              "      <td>0.9</td>\n",
              "      <td>0.594426</td>\n",
              "      <td>0.000000</td>\n",
              "      <td>0</td>\n",
              "      <td>1</td>\n",
              "      <td>0.526911</td>\n",
              "      <td>1</td>\n",
              "      <td>0</td>\n",
              "      <td>1</td>\n",
              "      <td>0</td>\n",
              "      <td>0</td>\n",
              "    </tr>\n",
              "    <tr>\n",
              "      <th>5434</th>\n",
              "      <td>0.766</td>\n",
              "      <td>0.189189</td>\n",
              "      <td>0.5</td>\n",
              "      <td>0.000000</td>\n",
              "      <td>0.333333</td>\n",
              "      <td>1</td>\n",
              "      <td>0</td>\n",
              "      <td>0.658068</td>\n",
              "      <td>1</td>\n",
              "      <td>0</td>\n",
              "      <td>0</td>\n",
              "      <td>0</td>\n",
              "      <td>1</td>\n",
              "    </tr>\n",
              "    <tr>\n",
              "      <th>8892</th>\n",
              "      <td>0.660</td>\n",
              "      <td>0.189189</td>\n",
              "      <td>0.5</td>\n",
              "      <td>0.000000</td>\n",
              "      <td>0.000000</td>\n",
              "      <td>1</td>\n",
              "      <td>1</td>\n",
              "      <td>0.753420</td>\n",
              "      <td>1</td>\n",
              "      <td>0</td>\n",
              "      <td>1</td>\n",
              "      <td>0</td>\n",
              "      <td>0</td>\n",
              "    </tr>\n",
              "  </tbody>\n",
              "</table>\n",
              "</div>\n",
              "      <button class=\"colab-df-convert\" onclick=\"convertToInteractive('df-f3054177-980b-4b70-81e1-8e10e55762d5')\"\n",
              "              title=\"Convert this dataframe to an interactive table.\"\n",
              "              style=\"display:none;\">\n",
              "        \n",
              "  <svg xmlns=\"http://www.w3.org/2000/svg\" height=\"24px\"viewBox=\"0 0 24 24\"\n",
              "       width=\"24px\">\n",
              "    <path d=\"M0 0h24v24H0V0z\" fill=\"none\"/>\n",
              "    <path d=\"M18.56 5.44l.94 2.06.94-2.06 2.06-.94-2.06-.94-.94-2.06-.94 2.06-2.06.94zm-11 1L8.5 8.5l.94-2.06 2.06-.94-2.06-.94L8.5 2.5l-.94 2.06-2.06.94zm10 10l.94 2.06.94-2.06 2.06-.94-2.06-.94-.94-2.06-.94 2.06-2.06.94z\"/><path d=\"M17.41 7.96l-1.37-1.37c-.4-.4-.92-.59-1.43-.59-.52 0-1.04.2-1.43.59L10.3 9.45l-7.72 7.72c-.78.78-.78 2.05 0 2.83L4 21.41c.39.39.9.59 1.41.59.51 0 1.02-.2 1.41-.59l7.78-7.78 2.81-2.81c.8-.78.8-2.07 0-2.86zM5.41 20L4 18.59l7.72-7.72 1.47 1.35L5.41 20z\"/>\n",
              "  </svg>\n",
              "      </button>\n",
              "      \n",
              "  <style>\n",
              "    .colab-df-container {\n",
              "      display:flex;\n",
              "      flex-wrap:wrap;\n",
              "      gap: 12px;\n",
              "    }\n",
              "\n",
              "    .colab-df-convert {\n",
              "      background-color: #E8F0FE;\n",
              "      border: none;\n",
              "      border-radius: 50%;\n",
              "      cursor: pointer;\n",
              "      display: none;\n",
              "      fill: #1967D2;\n",
              "      height: 32px;\n",
              "      padding: 0 0 0 0;\n",
              "      width: 32px;\n",
              "    }\n",
              "\n",
              "    .colab-df-convert:hover {\n",
              "      background-color: #E2EBFA;\n",
              "      box-shadow: 0px 1px 2px rgba(60, 64, 67, 0.3), 0px 1px 3px 1px rgba(60, 64, 67, 0.15);\n",
              "      fill: #174EA6;\n",
              "    }\n",
              "\n",
              "    [theme=dark] .colab-df-convert {\n",
              "      background-color: #3B4455;\n",
              "      fill: #D2E3FC;\n",
              "    }\n",
              "\n",
              "    [theme=dark] .colab-df-convert:hover {\n",
              "      background-color: #434B5C;\n",
              "      box-shadow: 0px 1px 3px 1px rgba(0, 0, 0, 0.15);\n",
              "      filter: drop-shadow(0px 1px 2px rgba(0, 0, 0, 0.3));\n",
              "      fill: #FFFFFF;\n",
              "    }\n",
              "  </style>\n",
              "\n",
              "      <script>\n",
              "        const buttonEl =\n",
              "          document.querySelector('#df-f3054177-980b-4b70-81e1-8e10e55762d5 button.colab-df-convert');\n",
              "        buttonEl.style.display =\n",
              "          google.colab.kernel.accessAllowed ? 'block' : 'none';\n",
              "\n",
              "        async function convertToInteractive(key) {\n",
              "          const element = document.querySelector('#df-f3054177-980b-4b70-81e1-8e10e55762d5');\n",
              "          const dataTable =\n",
              "            await google.colab.kernel.invokeFunction('convertToInteractive',\n",
              "                                                     [key], {});\n",
              "          if (!dataTable) return;\n",
              "\n",
              "          const docLinkHtml = 'Like what you see? Visit the ' +\n",
              "            '<a target=\"_blank\" href=https://colab.research.google.com/notebooks/data_table.ipynb>data table notebook</a>'\n",
              "            + ' to learn more about interactive tables.';\n",
              "          element.innerHTML = '';\n",
              "          dataTable['output_type'] = 'display_data';\n",
              "          await google.colab.output.renderOutput(dataTable, element);\n",
              "          const docLink = document.createElement('div');\n",
              "          docLink.innerHTML = docLinkHtml;\n",
              "          element.appendChild(docLink);\n",
              "        }\n",
              "      </script>\n",
              "    </div>\n",
              "  </div>\n",
              "  "
            ]
          },
          "metadata": {},
          "execution_count": 28
        }
      ],
      "source": [
        "#scaling the data using minmaxscaler\n",
        "from sklearn.preprocessing import MinMaxScaler\n",
        "scaler = MinMaxScaler()\n",
        "X_train[['CreditScore','Age','Tenure','Balance','NumOfProducts','EstimatedSalary']] = scaler.fit_transform(X_train[['CreditScore','Age','Tenure','Balance','NumOfProducts','EstimatedSalary']])\n",
        "X_train.head(5)"
      ]
    },
    {
      "cell_type": "code",
      "execution_count": null,
      "id": "63d99f4f",
      "metadata": {
        "id": "63d99f4f",
        "colab": {
          "base_uri": "https://localhost:8080/",
          "height": 488
        },
        "outputId": "c800d6a1-cee3-47a6-b756-ecc621652d59"
      },
      "outputs": [
        {
          "output_type": "execute_result",
          "data": {
            "text/plain": [
              "      CreditScore       Age  Tenure   Balance  NumOfProducts  HasCrCard  \\\n",
              "1855        0.870  0.391892     0.9  0.549030       0.000000          1   \n",
              "9284        0.566  0.581081     0.3  0.707262       0.000000          0   \n",
              "466         1.000  0.189189     0.9  0.000000       0.333333          1   \n",
              "437         0.332  0.229730     1.0  0.468303       0.333333          0   \n",
              "6140        0.276  0.175676     0.8  0.439059       0.000000          0   \n",
              "...           ...       ...     ...       ...            ...        ...   \n",
              "8632        0.802  0.324324     0.4  0.000000       0.333333          1   \n",
              "6037        0.722  0.189189     0.5  0.000000       0.333333          1   \n",
              "6912        0.388  0.405405     1.0  0.352344       0.666667          1   \n",
              "443         0.790  0.378378     0.2  0.549878       0.000000          1   \n",
              "5887        0.650  0.202703     0.0  0.638043       0.000000          1   \n",
              "\n",
              "      IsActiveMember  EstimatedSalary  Gender_Female  Gender_Male  \\\n",
              "1855               1         0.168768              1            0   \n",
              "9284               1         0.251543              0            1   \n",
              "466                1         0.094230              1            0   \n",
              "437                0         0.598237              0            1   \n",
              "6140               0         0.620973              1            0   \n",
              "...              ...              ...            ...          ...   \n",
              "8632               1         0.407005              0            1   \n",
              "6037               1         0.738592              0            1   \n",
              "6912               1         0.518429              0            1   \n",
              "443                1         0.590022              0            1   \n",
              "5887               0         0.323818              1            0   \n",
              "\n",
              "      Geography_France  Geography_Germany  Geography_Spain  \n",
              "1855                 1                  0                0  \n",
              "9284                 1                  0                0  \n",
              "466                  0                  0                1  \n",
              "437                  1                  0                0  \n",
              "6140                 1                  0                0  \n",
              "...                ...                ...              ...  \n",
              "8632                 1                  0                0  \n",
              "6037                 0                  0                1  \n",
              "6912                 1                  0                0  \n",
              "443                  1                  0                0  \n",
              "5887                 0                  1                0  \n",
              "\n",
              "[2000 rows x 13 columns]"
            ],
            "text/html": [
              "\n",
              "  <div id=\"df-d73064e4-678e-41fb-929a-2afaae198b21\">\n",
              "    <div class=\"colab-df-container\">\n",
              "      <div>\n",
              "<style scoped>\n",
              "    .dataframe tbody tr th:only-of-type {\n",
              "        vertical-align: middle;\n",
              "    }\n",
              "\n",
              "    .dataframe tbody tr th {\n",
              "        vertical-align: top;\n",
              "    }\n",
              "\n",
              "    .dataframe thead th {\n",
              "        text-align: right;\n",
              "    }\n",
              "</style>\n",
              "<table border=\"1\" class=\"dataframe\">\n",
              "  <thead>\n",
              "    <tr style=\"text-align: right;\">\n",
              "      <th></th>\n",
              "      <th>CreditScore</th>\n",
              "      <th>Age</th>\n",
              "      <th>Tenure</th>\n",
              "      <th>Balance</th>\n",
              "      <th>NumOfProducts</th>\n",
              "      <th>HasCrCard</th>\n",
              "      <th>IsActiveMember</th>\n",
              "      <th>EstimatedSalary</th>\n",
              "      <th>Gender_Female</th>\n",
              "      <th>Gender_Male</th>\n",
              "      <th>Geography_France</th>\n",
              "      <th>Geography_Germany</th>\n",
              "      <th>Geography_Spain</th>\n",
              "    </tr>\n",
              "  </thead>\n",
              "  <tbody>\n",
              "    <tr>\n",
              "      <th>1855</th>\n",
              "      <td>0.870</td>\n",
              "      <td>0.391892</td>\n",
              "      <td>0.9</td>\n",
              "      <td>0.549030</td>\n",
              "      <td>0.000000</td>\n",
              "      <td>1</td>\n",
              "      <td>1</td>\n",
              "      <td>0.168768</td>\n",
              "      <td>1</td>\n",
              "      <td>0</td>\n",
              "      <td>1</td>\n",
              "      <td>0</td>\n",
              "      <td>0</td>\n",
              "    </tr>\n",
              "    <tr>\n",
              "      <th>9284</th>\n",
              "      <td>0.566</td>\n",
              "      <td>0.581081</td>\n",
              "      <td>0.3</td>\n",
              "      <td>0.707262</td>\n",
              "      <td>0.000000</td>\n",
              "      <td>0</td>\n",
              "      <td>1</td>\n",
              "      <td>0.251543</td>\n",
              "      <td>0</td>\n",
              "      <td>1</td>\n",
              "      <td>1</td>\n",
              "      <td>0</td>\n",
              "      <td>0</td>\n",
              "    </tr>\n",
              "    <tr>\n",
              "      <th>466</th>\n",
              "      <td>1.000</td>\n",
              "      <td>0.189189</td>\n",
              "      <td>0.9</td>\n",
              "      <td>0.000000</td>\n",
              "      <td>0.333333</td>\n",
              "      <td>1</td>\n",
              "      <td>1</td>\n",
              "      <td>0.094230</td>\n",
              "      <td>1</td>\n",
              "      <td>0</td>\n",
              "      <td>0</td>\n",
              "      <td>0</td>\n",
              "      <td>1</td>\n",
              "    </tr>\n",
              "    <tr>\n",
              "      <th>437</th>\n",
              "      <td>0.332</td>\n",
              "      <td>0.229730</td>\n",
              "      <td>1.0</td>\n",
              "      <td>0.468303</td>\n",
              "      <td>0.333333</td>\n",
              "      <td>0</td>\n",
              "      <td>0</td>\n",
              "      <td>0.598237</td>\n",
              "      <td>0</td>\n",
              "      <td>1</td>\n",
              "      <td>1</td>\n",
              "      <td>0</td>\n",
              "      <td>0</td>\n",
              "    </tr>\n",
              "    <tr>\n",
              "      <th>6140</th>\n",
              "      <td>0.276</td>\n",
              "      <td>0.175676</td>\n",
              "      <td>0.8</td>\n",
              "      <td>0.439059</td>\n",
              "      <td>0.000000</td>\n",
              "      <td>0</td>\n",
              "      <td>0</td>\n",
              "      <td>0.620973</td>\n",
              "      <td>1</td>\n",
              "      <td>0</td>\n",
              "      <td>1</td>\n",
              "      <td>0</td>\n",
              "      <td>0</td>\n",
              "    </tr>\n",
              "    <tr>\n",
              "      <th>...</th>\n",
              "      <td>...</td>\n",
              "      <td>...</td>\n",
              "      <td>...</td>\n",
              "      <td>...</td>\n",
              "      <td>...</td>\n",
              "      <td>...</td>\n",
              "      <td>...</td>\n",
              "      <td>...</td>\n",
              "      <td>...</td>\n",
              "      <td>...</td>\n",
              "      <td>...</td>\n",
              "      <td>...</td>\n",
              "      <td>...</td>\n",
              "    </tr>\n",
              "    <tr>\n",
              "      <th>8632</th>\n",
              "      <td>0.802</td>\n",
              "      <td>0.324324</td>\n",
              "      <td>0.4</td>\n",
              "      <td>0.000000</td>\n",
              "      <td>0.333333</td>\n",
              "      <td>1</td>\n",
              "      <td>1</td>\n",
              "      <td>0.407005</td>\n",
              "      <td>0</td>\n",
              "      <td>1</td>\n",
              "      <td>1</td>\n",
              "      <td>0</td>\n",
              "      <td>0</td>\n",
              "    </tr>\n",
              "    <tr>\n",
              "      <th>6037</th>\n",
              "      <td>0.722</td>\n",
              "      <td>0.189189</td>\n",
              "      <td>0.5</td>\n",
              "      <td>0.000000</td>\n",
              "      <td>0.333333</td>\n",
              "      <td>1</td>\n",
              "      <td>1</td>\n",
              "      <td>0.738592</td>\n",
              "      <td>0</td>\n",
              "      <td>1</td>\n",
              "      <td>0</td>\n",
              "      <td>0</td>\n",
              "      <td>1</td>\n",
              "    </tr>\n",
              "    <tr>\n",
              "      <th>6912</th>\n",
              "      <td>0.388</td>\n",
              "      <td>0.405405</td>\n",
              "      <td>1.0</td>\n",
              "      <td>0.352344</td>\n",
              "      <td>0.666667</td>\n",
              "      <td>1</td>\n",
              "      <td>1</td>\n",
              "      <td>0.518429</td>\n",
              "      <td>0</td>\n",
              "      <td>1</td>\n",
              "      <td>1</td>\n",
              "      <td>0</td>\n",
              "      <td>0</td>\n",
              "    </tr>\n",
              "    <tr>\n",
              "      <th>443</th>\n",
              "      <td>0.790</td>\n",
              "      <td>0.378378</td>\n",
              "      <td>0.2</td>\n",
              "      <td>0.549878</td>\n",
              "      <td>0.000000</td>\n",
              "      <td>1</td>\n",
              "      <td>1</td>\n",
              "      <td>0.590022</td>\n",
              "      <td>0</td>\n",
              "      <td>1</td>\n",
              "      <td>1</td>\n",
              "      <td>0</td>\n",
              "      <td>0</td>\n",
              "    </tr>\n",
              "    <tr>\n",
              "      <th>5887</th>\n",
              "      <td>0.650</td>\n",
              "      <td>0.202703</td>\n",
              "      <td>0.0</td>\n",
              "      <td>0.638043</td>\n",
              "      <td>0.000000</td>\n",
              "      <td>1</td>\n",
              "      <td>0</td>\n",
              "      <td>0.323818</td>\n",
              "      <td>1</td>\n",
              "      <td>0</td>\n",
              "      <td>0</td>\n",
              "      <td>1</td>\n",
              "      <td>0</td>\n",
              "    </tr>\n",
              "  </tbody>\n",
              "</table>\n",
              "<p>2000 rows × 13 columns</p>\n",
              "</div>\n",
              "      <button class=\"colab-df-convert\" onclick=\"convertToInteractive('df-d73064e4-678e-41fb-929a-2afaae198b21')\"\n",
              "              title=\"Convert this dataframe to an interactive table.\"\n",
              "              style=\"display:none;\">\n",
              "        \n",
              "  <svg xmlns=\"http://www.w3.org/2000/svg\" height=\"24px\"viewBox=\"0 0 24 24\"\n",
              "       width=\"24px\">\n",
              "    <path d=\"M0 0h24v24H0V0z\" fill=\"none\"/>\n",
              "    <path d=\"M18.56 5.44l.94 2.06.94-2.06 2.06-.94-2.06-.94-.94-2.06-.94 2.06-2.06.94zm-11 1L8.5 8.5l.94-2.06 2.06-.94-2.06-.94L8.5 2.5l-.94 2.06-2.06.94zm10 10l.94 2.06.94-2.06 2.06-.94-2.06-.94-.94-2.06-.94 2.06-2.06.94z\"/><path d=\"M17.41 7.96l-1.37-1.37c-.4-.4-.92-.59-1.43-.59-.52 0-1.04.2-1.43.59L10.3 9.45l-7.72 7.72c-.78.78-.78 2.05 0 2.83L4 21.41c.39.39.9.59 1.41.59.51 0 1.02-.2 1.41-.59l7.78-7.78 2.81-2.81c.8-.78.8-2.07 0-2.86zM5.41 20L4 18.59l7.72-7.72 1.47 1.35L5.41 20z\"/>\n",
              "  </svg>\n",
              "      </button>\n",
              "      \n",
              "  <style>\n",
              "    .colab-df-container {\n",
              "      display:flex;\n",
              "      flex-wrap:wrap;\n",
              "      gap: 12px;\n",
              "    }\n",
              "\n",
              "    .colab-df-convert {\n",
              "      background-color: #E8F0FE;\n",
              "      border: none;\n",
              "      border-radius: 50%;\n",
              "      cursor: pointer;\n",
              "      display: none;\n",
              "      fill: #1967D2;\n",
              "      height: 32px;\n",
              "      padding: 0 0 0 0;\n",
              "      width: 32px;\n",
              "    }\n",
              "\n",
              "    .colab-df-convert:hover {\n",
              "      background-color: #E2EBFA;\n",
              "      box-shadow: 0px 1px 2px rgba(60, 64, 67, 0.3), 0px 1px 3px 1px rgba(60, 64, 67, 0.15);\n",
              "      fill: #174EA6;\n",
              "    }\n",
              "\n",
              "    [theme=dark] .colab-df-convert {\n",
              "      background-color: #3B4455;\n",
              "      fill: #D2E3FC;\n",
              "    }\n",
              "\n",
              "    [theme=dark] .colab-df-convert:hover {\n",
              "      background-color: #434B5C;\n",
              "      box-shadow: 0px 1px 3px 1px rgba(0, 0, 0, 0.15);\n",
              "      filter: drop-shadow(0px 1px 2px rgba(0, 0, 0, 0.3));\n",
              "      fill: #FFFFFF;\n",
              "    }\n",
              "  </style>\n",
              "\n",
              "      <script>\n",
              "        const buttonEl =\n",
              "          document.querySelector('#df-d73064e4-678e-41fb-929a-2afaae198b21 button.colab-df-convert');\n",
              "        buttonEl.style.display =\n",
              "          google.colab.kernel.accessAllowed ? 'block' : 'none';\n",
              "\n",
              "        async function convertToInteractive(key) {\n",
              "          const element = document.querySelector('#df-d73064e4-678e-41fb-929a-2afaae198b21');\n",
              "          const dataTable =\n",
              "            await google.colab.kernel.invokeFunction('convertToInteractive',\n",
              "                                                     [key], {});\n",
              "          if (!dataTable) return;\n",
              "\n",
              "          const docLinkHtml = 'Like what you see? Visit the ' +\n",
              "            '<a target=\"_blank\" href=https://colab.research.google.com/notebooks/data_table.ipynb>data table notebook</a>'\n",
              "            + ' to learn more about interactive tables.';\n",
              "          element.innerHTML = '';\n",
              "          dataTable['output_type'] = 'display_data';\n",
              "          await google.colab.output.renderOutput(dataTable, element);\n",
              "          const docLink = document.createElement('div');\n",
              "          docLink.innerHTML = docLinkHtml;\n",
              "          element.appendChild(docLink);\n",
              "        }\n",
              "      </script>\n",
              "    </div>\n",
              "  </div>\n",
              "  "
            ]
          },
          "metadata": {},
          "execution_count": 29
        }
      ],
      "source": [
        "X_test[['CreditScore','Age','Tenure','Balance','NumOfProducts','EstimatedSalary']] = scaler.transform(X_test[['CreditScore','Age','Tenure','Balance','NumOfProducts','EstimatedSalary']])\n",
        "X_test"
      ]
    },
    {
      "cell_type": "markdown",
      "id": "bc2a8f5f",
      "metadata": {
        "id": "bc2a8f5f"
      },
      "source": [
        "**Modelling** "
      ]
    },
    {
      "cell_type": "code",
      "execution_count": null,
      "id": "0ce2fa8a",
      "metadata": {
        "id": "0ce2fa8a",
        "colab": {
          "base_uri": "https://localhost:8080/"
        },
        "outputId": "5fac4d75-b3e6-4af0-ba89-e5184695df32"
      },
      "outputs": [
        {
          "output_type": "stream",
          "name": "stdout",
          "text": [
            "0.8105\n"
          ]
        }
      ],
      "source": [
        "#model1 using logistic regration\n",
        "model_1_lr = LogisticRegression()\n",
        "model_1_lr.fit(X_train, y_train)\n",
        "y_pred_lr = model_1_lr.predict(X_test)\n",
        "print(accuracy_score(y_test, y_pred_lr))"
      ]
    },
    {
      "cell_type": "code",
      "execution_count": null,
      "id": "b211391f",
      "metadata": {
        "id": "b211391f",
        "colab": {
          "base_uri": "https://localhost:8080/"
        },
        "outputId": "6af27b8f-3d82-45ce-90ae-2d65b2cddc89"
      },
      "outputs": [
        {
          "output_type": "stream",
          "name": "stdout",
          "text": [
            "0.828\n"
          ]
        }
      ],
      "source": [
        "#model2 using SVM\n",
        "model_2_svm=svm.SVC()\n",
        "model_2_svm.fit(X_train,y_train)\n",
        "y_pred_svm=model_2_svm.predict(X_test)\n",
        "print(accuracy_score(y_test, y_pred_svm))"
      ]
    },
    {
      "cell_type": "code",
      "execution_count": null,
      "id": "3b1cf9f5",
      "metadata": {
        "id": "3b1cf9f5"
      },
      "outputs": [],
      "source": [
        "#model3 using logistic regression and SMOTE\n",
        "smote = SMOTE()\n",
        "X_train_smote, y_train_smote = smote.fit_resample(X_train,y_train)"
      ]
    },
    {
      "cell_type": "code",
      "execution_count": null,
      "id": "97a00582",
      "metadata": {
        "colab": {
          "base_uri": "https://localhost:8080/"
        },
        "id": "97a00582",
        "outputId": "391795c0-b846-459b-99e4-d6ebcab3040d"
      },
      "outputs": [
        {
          "output_type": "stream",
          "name": "stdout",
          "text": [
            "0.721\n"
          ]
        }
      ],
      "source": [
        "model_3_smote_lr = LogisticRegression()\n",
        "model_3_smote_lr.fit(X_train_smote, y_train_smote)\n",
        "y_pred_smote_lr=model_3_smote_lr.predict(X_test)\n",
        "print(accuracy_score(y_test, y_pred_smote_lr))"
      ]
    },
    {
      "cell_type": "code",
      "execution_count": null,
      "id": "f1b2941b",
      "metadata": {
        "id": "f1b2941b",
        "colab": {
          "base_uri": "https://localhost:8080/"
        },
        "outputId": "2c7bd0e4-18a5-41bb-9081-fbd260886f9f"
      },
      "outputs": [
        {
          "output_type": "stream",
          "name": "stdout",
          "text": [
            "0.7825\n"
          ]
        }
      ],
      "source": [
        "#model4 using SVM and SMOTE\n",
        "model_4_smote_svm=svm.SVC()\n",
        "model_4_smote_svm.fit(X_train_smote,y_train_smote)\n",
        "y_pred_smote_svm=model_4_smote_svm.predict(X_test)\n",
        "print(accuracy_score(y_test, y_pred_smote_svm))"
      ]
    },
    {
      "cell_type": "code",
      "execution_count": null,
      "id": "e64d8805",
      "metadata": {
        "id": "e64d8805",
        "colab": {
          "base_uri": "https://localhost:8080/"
        },
        "outputId": "dc4841ef-0461-405f-8de6-bf72904467bb"
      },
      "outputs": [
        {
          "output_type": "stream",
          "name": "stdout",
          "text": [
            "Fitting 5 folds for each of 15 candidates, totalling 75 fits\n",
            "best params:-  {'C': 10000, 'gamma': 0.1}\n",
            "best score:-  0.8257433489827856\n",
            "score:-  0.7925\n"
          ]
        }
      ],
      "source": [
        "#model5 using frid search parameter selection for SVM\n",
        "param_grid = {\"gamma\": [0.001, 0.01, 0.1], \"C\": [1,10,100,1000,10000]}\n",
        "svc = svm.SVC()\n",
        "clf = GridSearchCV(estimator = svc, param_grid = param_grid, cv=5, verbose =1, scoring ={'Accuracy':'accuracy','f1s': 'f1'},refit='Accuracy')\n",
        "clf.fit(X_train_smote, y_train_smote)\n",
        "y_pred_grids=clf.predict(X_test)\n",
        "print(\"best params:- \",clf.best_params_)\n",
        "print('best score:- ',clf.best_score_)\n",
        "print('score:- ',clf.score(X_test, y_test))"
      ]
    },
    {
      "cell_type": "markdown",
      "id": "Y0OKqoRnuG_n",
      "metadata": {
        "id": "Y0OKqoRnuG_n"
      },
      "source": [
        "**Evaluation** "
      ]
    },
    {
      "cell_type": "code",
      "execution_count": null,
      "id": "pm4Lxv71x7ef",
      "metadata": {
        "id": "pm4Lxv71x7ef"
      },
      "outputs": [],
      "source": [
        "def create_heatmap(cf_matrix):\n",
        "    group_names = [\"True Neg\",\"False Pos\",\"False Neg\",\"True Pos\"]\n",
        "    group_counts = [\"{0:0.0f}\".format(value) for value in\n",
        "                cf_matrix.flatten()]\n",
        "    group_percentages = [\"{0:.2%}\".format(value) for value in\n",
        "                     cf_matrix.flatten()/np.sum(cf_matrix)]\n",
        "    labels = [f\"{v1}\\n{v2}\\n{v3}\" for v1, v2, v3 in\n",
        "          zip(group_names,group_counts,group_percentages)]\n",
        "    labels = np.asarray(labels).reshape(2,2)\n",
        "    return sns.heatmap(cf_matrix, annot=labels, fmt=\"\", cmap='Blues')"
      ]
    },
    {
      "cell_type": "markdown",
      "id": "qT0sZEYT1wve",
      "metadata": {
        "id": "qT0sZEYT1wve"
      },
      "source": [
        "classification reports:-"
      ]
    },
    {
      "cell_type": "code",
      "execution_count": null,
      "id": "KS5mMeW_NHtz",
      "metadata": {
        "colab": {
          "base_uri": "https://localhost:8080/"
        },
        "id": "KS5mMeW_NHtz",
        "outputId": "cdf93f3a-3502-4138-9aea-1410d6acb0f2"
      },
      "outputs": [
        {
          "output_type": "stream",
          "name": "stdout",
          "text": [
            "              precision    recall  f1-score   support\n",
            "\n",
            "           0       0.82      0.97      0.89      1573\n",
            "           1       0.69      0.21      0.32       427\n",
            "\n",
            "    accuracy                           0.81      2000\n",
            "   macro avg       0.75      0.59      0.60      2000\n",
            "weighted avg       0.79      0.81      0.77      2000\n",
            "\n"
          ]
        }
      ],
      "source": [
        "#model1\n",
        "print(classification_report(y_test, y_pred_lr))"
      ]
    },
    {
      "cell_type": "code",
      "execution_count": null,
      "id": "XErvXPUavKYY",
      "metadata": {
        "colab": {
          "base_uri": "https://localhost:8080/"
        },
        "id": "XErvXPUavKYY",
        "outputId": "59e72f36-0956-4c2a-909a-222636418d1a"
      },
      "outputs": [
        {
          "output_type": "stream",
          "name": "stdout",
          "text": [
            "              precision    recall  f1-score   support\n",
            "\n",
            "           0       0.82      0.99      0.90      1573\n",
            "           1       0.89      0.22      0.36       427\n",
            "\n",
            "    accuracy                           0.83      2000\n",
            "   macro avg       0.86      0.61      0.63      2000\n",
            "weighted avg       0.84      0.83      0.78      2000\n",
            "\n"
          ]
        }
      ],
      "source": [
        "#model2\n",
        "print(classification_report(y_test, y_pred_svm))"
      ]
    },
    {
      "cell_type": "code",
      "execution_count": null,
      "id": "SAFfPr3rzhl1",
      "metadata": {
        "colab": {
          "base_uri": "https://localhost:8080/"
        },
        "id": "SAFfPr3rzhl1",
        "outputId": "1802e2bf-c451-4b47-883e-836e41543821"
      },
      "outputs": [
        {
          "output_type": "stream",
          "name": "stdout",
          "text": [
            "              precision    recall  f1-score   support\n",
            "\n",
            "           0       0.90      0.72      0.80      1573\n",
            "           1       0.41      0.72      0.52       427\n",
            "\n",
            "    accuracy                           0.72      2000\n",
            "   macro avg       0.66      0.72      0.66      2000\n",
            "weighted avg       0.80      0.72      0.74      2000\n",
            "\n"
          ]
        }
      ],
      "source": [
        "#model3\n",
        "print(classification_report(y_test, y_pred_smote_lr))"
      ]
    },
    {
      "cell_type": "code",
      "execution_count": null,
      "id": "3KEkUXB20TMK",
      "metadata": {
        "colab": {
          "base_uri": "https://localhost:8080/"
        },
        "id": "3KEkUXB20TMK",
        "outputId": "692051d7-e8dd-4ab9-bbbe-2cea99fe55d8"
      },
      "outputs": [
        {
          "output_type": "stream",
          "name": "stdout",
          "text": [
            "              precision    recall  f1-score   support\n",
            "\n",
            "           0       0.91      0.80      0.85      1573\n",
            "           1       0.49      0.72      0.58       427\n",
            "\n",
            "    accuracy                           0.78      2000\n",
            "   macro avg       0.70      0.76      0.72      2000\n",
            "weighted avg       0.82      0.78      0.80      2000\n",
            "\n"
          ]
        }
      ],
      "source": [
        "#model4\n",
        "print(classification_report(y_test, y_pred_smote_svm))"
      ]
    },
    {
      "cell_type": "markdown",
      "id": "_rO4KI2A103A",
      "metadata": {
        "id": "_rO4KI2A103A"
      },
      "source": [
        "confusion matrix "
      ]
    },
    {
      "cell_type": "code",
      "execution_count": null,
      "id": "ae6hclmy0Vpc",
      "metadata": {
        "colab": {
          "base_uri": "https://localhost:8080/",
          "height": 282
        },
        "id": "ae6hclmy0Vpc",
        "outputId": "d54583de-7285-44f6-9376-84f4ac592ba2"
      },
      "outputs": [
        {
          "output_type": "stream",
          "name": "stdout",
          "text": [
            "AxesSubplot(0.125,0.125;0.62x0.755)\n"
          ]
        },
        {
          "output_type": "display_data",
          "data": {
            "text/plain": [
              "<Figure size 432x288 with 2 Axes>"
            ],
            "image/png": "[encoded data removed]"
          },
          "metadata": {
            "needs_background": "light"
          }
        }
      ],
      "source": [
        "#model1\n",
        "cf_matrix_1 = confusion_matrix(y_test, y_pred_lr)\n",
        "print(create_heatmap(cf_matrix_1))"
      ]
    },
    {
      "cell_type": "code",
      "execution_count": null,
      "id": "VDmm5GVn17_A",
      "metadata": {
        "colab": {
          "base_uri": "https://localhost:8080/",
          "height": 282
        },
        "id": "VDmm5GVn17_A",
        "outputId": "c6b9035d-b6ca-4a6a-b281-3e406a71147d"
      },
      "outputs": [
        {
          "output_type": "stream",
          "name": "stdout",
          "text": [
            "AxesSubplot(0.125,0.125;0.62x0.755)\n"
          ]
        },
        {
          "output_type": "display_data",
          "data": {
            "text/plain": [
              "<Figure size 432x288 with 2 Axes>"
            ],
            "image/png": "[encoded data removed]"
          },
          "metadata": {
            "needs_background": "light"
          }
        }
      ],
      "source": [
        "#model2\n",
        "cf_matrix_2 = confusion_matrix(y_test, y_pred_svm)\n",
        "print(create_heatmap(cf_matrix_2))"
      ]
    },
    {
      "cell_type": "code",
      "execution_count": null,
      "id": "hdgwf0Ub2jjK",
      "metadata": {
        "colab": {
          "base_uri": "https://localhost:8080/",
          "height": 282
        },
        "id": "hdgwf0Ub2jjK",
        "outputId": "583bb434-b0af-4d35-efd3-e1654ee8d7ad"
      },
      "outputs": [
        {
          "output_type": "stream",
          "name": "stdout",
          "text": [
            "AxesSubplot(0.125,0.125;0.62x0.755)\n"
          ]
        },
        {
          "output_type": "display_data",
          "data": {
            "text/plain": [
              "<Figure size 432x288 with 2 Axes>"
            ],
            "image/png": "[encoded data removed]"
          },
          "metadata": {
            "needs_background": "light"
          }
        }
      ],
      "source": [
        "#model3\n",
        "cf_matrix_3 = confusion_matrix(y_test, y_pred_smote_lr)\n",
        "print(create_heatmap(cf_matrix_3))"
      ]
    },
    {
      "cell_type": "code",
      "execution_count": null,
      "id": "QxRfO5Jr2sVi",
      "metadata": {
        "colab": {
          "base_uri": "https://localhost:8080/",
          "height": 282
        },
        "id": "QxRfO5Jr2sVi",
        "outputId": "3195a446-65fc-4884-c380-ec2aac53cc04"
      },
      "outputs": [
        {
          "output_type": "stream",
          "name": "stdout",
          "text": [
            "AxesSubplot(0.125,0.125;0.62x0.755)\n"
          ]
        },
        {
          "output_type": "display_data",
          "data": {
            "text/plain": [
              "<Figure size 432x288 with 2 Axes>"
            ],
            "image/png": "[encoded data removed]"
          },
          "metadata": {
            "needs_background": "light"
          }
        }
      ],
      "source": [
        "#model4\n",
        "cf_matrix_4 = confusion_matrix(y_test, y_pred_smote_svm)\n",
        "print(create_heatmap(cf_matrix_4))"
      ]
    },
    {
      "cell_type": "code",
      "execution_count": null,
      "id": "Yq2R4xCq3sjp",
      "metadata": {
        "colab": {
          "base_uri": "https://localhost:8080/"
        },
        "id": "Yq2R4xCq3sjp",
        "outputId": "39b71e66-874d-49d9-a7d7-350da8f455ca"
      },
      "outputs": [
        {
          "output_type": "stream",
          "name": "stdout",
          "text": [
            "For model_1_lr :- False Positive 40 false Negative 339\n"
          ]
        }
      ],
      "source": [
        "#FP and FN for model_1_lr\n",
        "print('For model_1_lr :- False Positive',cf_matrix_1[0][1],'false Negative',cf_matrix_1[1][0])"
      ]
    },
    {
      "cell_type": "code",
      "execution_count": null,
      "id": "6fvicWA34KlY",
      "metadata": {
        "colab": {
          "base_uri": "https://localhost:8080/"
        },
        "id": "6fvicWA34KlY",
        "outputId": "7bb0d531-53f7-400e-c97b-01b8012a5bc0"
      },
      "outputs": [
        {
          "output_type": "execute_result",
          "data": {
            "text/plain": [
              "{'C': 10000, 'gamma': 0.1}"
            ]
          },
          "metadata": {},
          "execution_count": 46
        }
      ],
      "source": [
        "#best parameters from the grid search on the training set\n",
        "clf.best_params_"
      ]
    },
    {
      "cell_type": "code",
      "execution_count": null,
      "id": "TpxedlQ086Kd",
      "metadata": {
        "id": "TpxedlQ086Kd",
        "colab": {
          "base_uri": "https://localhost:8080/"
        },
        "outputId": "9c907db2-9855-4e54-c2be-66d3ab421d57"
      },
      "outputs": [
        {
          "output_type": "execute_result",
          "data": {
            "text/plain": [
              "0.8257433489827856"
            ]
          },
          "metadata": {},
          "execution_count": 47
        }
      ],
      "source": [
        "#best F1 score of the grid search implemented in the fifth model \n",
        "clf.best_score_"
      ]
    }
  ],
  "metadata": {
    "colab": {
      "provenance": []
    },
    "kernelspec": {
      "display_name": "Python 3 (ipykernel)",
      "language": "python",
      "name": "python3"
    },
    "language_info": {
      "codemirror_mode": {
        "name": "ipython",
        "version": 3
      },
      "file_extension": ".py",
      "mimetype": "text/x-python",
      "name": "python",
      "nbconvert_exporter": "python",
      "pygments_lexer": "ipython3",
      "version": "3.10.8"
    }
  },
  "nbformat": 4,
  "nbformat_minor": 5
}